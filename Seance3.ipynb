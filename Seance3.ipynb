{
 "cells": [
  {
   "cell_type": "markdown",
   "metadata": {},
   "source": [
    "# Numpy et Array\n",
    "\n",
    "La bibliothèque NumPy (http://www.numpy.org/) permet d’effectuer des calculs numériques avec Python. Elle introduit une gestion facilitée des tableaux de nombres.\n",
    "\n",
    "Il faut au départ importer le package numpy avec l’instruction suivante :"
   ]
  },
  {
   "cell_type": "code",
   "execution_count": 3,
   "metadata": {},
   "outputs": [],
   "source": [
    "import numpy as np"
   ]
  },
  {
   "cell_type": "markdown",
   "metadata": {},
   "source": [
    "Les tableaux - numpy.array()\n",
    "\n",
    "Les tableaux  peuvent être créés avec numpy.array(). On utilise des crochets pour délimiter les listes d’éléments dans les tableaux.\n",
    "\n"
   ]
  },
  {
   "cell_type": "code",
   "execution_count": 4,
   "metadata": {},
   "outputs": [],
   "source": [
    "a = np.array([[1, 2, 3], [4, 5, 6]])"
   ]
  },
  {
   "cell_type": "markdown",
   "metadata": {},
   "source": [
    "Accès aux éléments d’un tableau :    [ligne, colonne]"
   ]
  },
  {
   "cell_type": "code",
   "execution_count": 52,
   "metadata": {},
   "outputs": [
    {
     "name": "stdout",
     "output_type": "stream",
     "text": [
      "2\n"
     ]
    }
   ],
   "source": [
    "print(a[0,1])"
   ]
  },
  {
   "cell_type": "markdown",
   "metadata": {},
   "source": [
    "La fonction numpy.arange() permet de créer des listes en fonction de certain parametres:  (val départ, val max non atteignable, pas entre chaque valeurs)"
   ]
  },
  {
   "cell_type": "code",
   "execution_count": 36,
   "metadata": {},
   "outputs": [
    {
     "name": "stdout",
     "output_type": "stream",
     "text": [
      "14\n"
     ]
    }
   ],
   "source": [
    "m = np.arange(3, 15, 1) \n",
    "print(m[11])"
   ]
  },
  {
   "cell_type": "markdown",
   "metadata": {},
   "source": [
    "La fonction numpy.linspace() permet d’obtenir un tableau 1D allant d’une valeur de départ à une valeur de fin avec un nombre donné d’éléments. (val départ, val de fin, nombre de val dans tableau)"
   ]
  },
  {
   "cell_type": "code",
   "execution_count": 38,
   "metadata": {},
   "outputs": [
    {
     "data": {
      "text/plain": [
       "array([ 0.        ,  5.55555556, 11.11111111, 16.66666667, 22.22222222,\n",
       "       27.77777778, 33.33333333, 38.88888889, 44.44444444, 50.        ])"
      ]
     },
     "execution_count": 38,
     "metadata": {},
     "output_type": "execute_result"
    }
   ],
   "source": [
    "np.linspace(0, 50, 10)"
   ]
  },
  {
   "cell_type": "markdown",
   "metadata": {},
   "source": [
    "Pour toutes les fonctions que propose numpy, vous pouvez consulter la documentation : https://numpy.org/doc/\n",
    "\n",
    "Le typage faible et dynamique et les limites du language interperté fait de python une solution lente pour traiter les tableaux de grande taille. \n",
    "Dans beaucoup de cas, Numpy fournit une interface pour les opérations standard qui n'implique que des données du même type. Par exemple, on peut calculer les inverses de tous les éléments d'un tableau Numpy :"
   ]
  },
  {
   "cell_type": "code",
   "execution_count": 42,
   "metadata": {},
   "outputs": [
    {
     "name": "stdout",
     "output_type": "stream",
     "text": [
      "[85 83  9 68 18 73 76 91 38 57]\n",
      "[0.01176471 0.01204819 0.11111111 0.01470588 0.05555556 0.01369863\n",
      " 0.01315789 0.01098901 0.02631579 0.01754386]\n"
     ]
    }
   ],
   "source": [
    "tableau_large = np.random.randint(1, 100, size=10)\n",
    "print(tableau_large)\n",
    "tableau_large = 1.0 / tableau_large\n",
    "print(tableau_large)"
   ]
  },
  {
   "cell_type": "markdown",
   "metadata": {},
   "source": [
    "Ex 1 :  théorème des valeurs intermédiaires\n",
    "\n",
    "1. Rappel\n",
    "Soit f  une fonction continue définie sur un intervalle I et, a et b deux réels de I.Pour tout réel k compris entre f(a) et f(b), il existe au moins un réel c compris entre a et b tel que f(c)=k.\n",
    "\n",
    "Soit f une fonction continue et strictement monotone sur un intervalle [a;b].Pour tout nombre k compris entre f(a) et f(b), l'équation f(x)=k admet une unique solution dans l'intervalle [a;b].\n",
    "\n",
    "2. Application\n",
    "Nous considérons dans cet exercice la fonction:f définie sur l'intervalle [0;1], par: f(x)=x^3+2x−2\n",
    "Par la conséquence du théorème des valeurs intermédiaires :  l'équation f(x)=0 admet une unique solution x_0 dans [0;1]\n",
    "* vérifier continuité et stricte monotonie de f sur [0;1]\n",
    "* Pour savoir si x0 se trouve dans [0;0,5]ou dans [0,5;1], il faut vérifier si f(0) et f(0,5)  sont de mêmes signes\n",
    "* proposer un algorithme de recherche pour évaluer x_0 en fonction de $N$, donner par l'utilisateur\n"
   ]
  },
  {
   "cell_type": "code",
   "execution_count": 94,
   "metadata": {},
   "outputs": [
    {
     "name": "stdout",
     "output_type": "stream",
     "text": [
      "[[4 2 3]\n",
      " [2 3 4]\n",
      " [3 4 2]]\n",
      "18981\n"
     ]
    }
   ],
   "source": [
    "i=0\n",
    "while True:\n",
    "    \n",
    "    Tableau_3x3 = np.array([np.random.randint(1, 6, size=3), np.random.randint(1, 6, size=3), np.random.randint(1, 6, size=3)])\n",
    "\n",
    "    Somme_L1 = Tableau_3x3[0,0] + Tableau_3x3[0,1] + Tableau_3x3[0,2]\n",
    "    Somme_L2 = Tableau_3x3[1,0] + Tableau_3x3[1,1] + Tableau_3x3[1,2]\n",
    "    Somme_L3 = Tableau_3x3[2,0] + Tableau_3x3[2,1] + Tableau_3x3[2,2]\n",
    "\n",
    "    Somme_C1 = Tableau_3x3[0,0] + Tableau_3x3[1,0] + Tableau_3x3[2,0]\n",
    "    Somme_C2 = Tableau_3x3[0,1] + Tableau_3x3[1,1] + Tableau_3x3[2,1]\n",
    "    Somme_C3 = Tableau_3x3[0,2] + Tableau_3x3[1,2] + Tableau_3x3[2,2]\n",
    "\n",
    "    Somme_D1 = Tableau_3x3[0,0] + Tableau_3x3[1,1] + Tableau_3x3[2,2]\n",
    "    Somme_D2 = Tableau_3x3[0,2] + Tableau_3x3[1,1] + Tableau_3x3[2,0]\n",
    "    i=i+1\n",
    "    \n",
    "    if Somme_L1==Somme_L2 & Somme_L2==Somme_L3 & Somme_L3==Somme_C1 & Somme_C1==Somme_C2 & Somme_C2==Somme_C3 & Somme_C3==Somme_D1 & Somme_D1==Somme_D2:\n",
    "        break\n",
    "\n",
    "\n",
    "print(Tableau_3x3)\n",
    "print(i)\n",
    "\n"
   ]
  },
  {
   "cell_type": "markdown",
   "metadata": {},
   "source": [
    "Ex 2: Carrés magiques\n",
    "Un carré magique est un tableau carré de taille n×n qui contient tous les entiers de 1 à n*2 et qui vérifie que : la somme de chaque ligne, la somme de chaque colonne, la somme de la diagonale principale et la somme de l’anti-diagonale ont toutes la même valeur.\n",
    "\n",
    "Pour un carré magique de taille n×n, la valeur de la somme est : S_n=n(n^2+1)/2\n",
    "\n",
    "1. Définir un tableau pour chacun des exemples 3×3 et 4×4\n",
    "2. Définir une fonction est_carre_magique(carre)qui teste si un tableaudonné est (ou pas) un carré magique\n",
    "3. Génèrer de façon aléatoire des carrés contenant les entiers de1 àn2grâce à une fonctioncarre_aleatoire(n). \n",
    "4. Définir la probabilité d'obtenir un carrée magique\n",
    "5. Définir une fonctionaddition_carre(carre,k)qui ajoute un entierkà tous les élé-ments du carré.\n"
   ]
  },
  {
   "cell_type": "code",
   "execution_count": null,
   "metadata": {},
   "outputs": [],
   "source": []
  }
 ],
 "metadata": {
  "kernelspec": {
   "display_name": "Python 3",
   "language": "python",
   "name": "python3"
  },
  "language_info": {
   "codemirror_mode": {
    "name": "ipython",
    "version": 3
   },
   "file_extension": ".py",
   "mimetype": "text/x-python",
   "name": "python",
   "nbconvert_exporter": "python",
   "pygments_lexer": "ipython3",
   "version": "3.7.0"
  }
 },
 "nbformat": 4,
 "nbformat_minor": 4
}
